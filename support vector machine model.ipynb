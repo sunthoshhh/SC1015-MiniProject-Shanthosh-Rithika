{
 "cells": [
  {
   "cell_type": "code",
   "execution_count": 2,
   "id": "0450a6cb",
   "metadata": {},
   "outputs": [
    {
     "name": "stdout",
     "output_type": "stream",
     "text": [
      "Accuracy: 9.950000000000001\n"
     ]
    }
   ],
   "source": [
    "import pandas as pd\n",
    "from sklearn.model_selection import train_test_split\n",
    "from sklearn.preprocessing import StandardScaler, LabelEncoder\n",
    "from sklearn.svm import SVC\n",
    "from sklearn.metrics import accuracy_score\n",
    "from sklearn.pipeline import make_pipeline\n",
    "\n",
    "# Load data\n",
    "data = pd.read_excel('10000_sales_data.xlsx')\n",
    "\n",
    "# Assume 'Style Attributes', 'Season', 'Category' are categorical\n",
    "label_encoder = LabelEncoder()\n",
    "data['Season'] = label_encoder.fit_transform(data['Season'])\n",
    "data['Category'] = label_encoder.fit_transform(data['Category'])\n",
    "data['Style Attributes'] = label_encoder.fit_transform(data['Style Attributes'])\n",
    "\n",
    "# Prepare features and target\n",
    "X = data[['Season', 'Category', 'Price', 'Age', 'Rating']]  # Example features\n",
    "y = data['Style Attributes']\n",
    "\n",
    "# Splitting the dataset into the Training set and Test set\n",
    "X_train, X_test, y_train, y_test = train_test_split(X, y, test_size=0.2, random_state=42)\n",
    "\n",
    "# Creating a pipeline for scaling and model training\n",
    "pipeline = make_pipeline(StandardScaler(), SVC(kernel='rbf', C=1, gamma='auto'))\n",
    "pipeline.fit(X_train, y_train)\n",
    "\n",
    "# Predicting the Test set results and calculating accuracy\n",
    "y_pred = pipeline.predict(X_test)\n",
    "accuracy = accuracy_score(y_test, y_pred)\n",
    "print(\"Accuracy:\", accuracy * 100)\n"
   ]
  },
  {
   "cell_type": "code",
   "execution_count": null,
   "id": "44948386",
   "metadata": {},
   "outputs": [],
   "source": [
    "#splitting dataset in terms of age range and running support vector on each age to check if there is a greater prediction accuracy\n",
    "#specific example is predicting style attribute based on the young customer data"
   ]
  },
  {
   "cell_type": "code",
   "execution_count": 8,
   "id": "4a3920e1",
   "metadata": {},
   "outputs": [
    {
     "name": "stdout",
     "output_type": "stream",
     "text": [
      "Accuracy: 13.541666666666666\n"
     ]
    }
   ],
   "source": [
    "import pandas as pd\n",
    "from sklearn.model_selection import train_test_split\n",
    "from sklearn.preprocessing import StandardScaler, LabelEncoder\n",
    "from sklearn.svm import SVC\n",
    "from sklearn.metrics import accuracy_score\n",
    "from sklearn.pipeline import make_pipeline\n",
    "\n",
    "# Load data\n",
    "data = pd.read_excel('10000_sales_data.xlsx')\n",
    "\n",
    "# Define age groups\n",
    "bins = [0, 25, 50, 100]\n",
    "labels = ['Young', 'Middle-aged', 'Senior']\n",
    "data['Age Group'] = pd.cut(data['Age'], bins=bins, labels=labels, right=False)\n",
    "\n",
    "# Filter data for the 'Young' age group and create a copy to avoid SettingWithCopyWarning\n",
    "young_data = data[data['Age Group'] == 'Young'].copy()\n",
    "\n",
    "# Encoding categorical variables properly using .loc to avoid SettingWithCopyWarning\n",
    "label_encoder = LabelEncoder()\n",
    "young_data.loc[:, 'Season'] = label_encoder.fit_transform(young_data['Season'])\n",
    "young_data.loc[:, 'Category'] = label_encoder.fit_transform(young_data['Category'])\n",
    "young_data.loc[:, 'Style Attributes'] = label_encoder.fit_transform(young_data['Style Attributes'])\n",
    "\n",
    "# Prepare features and target\n",
    "X = young_data[['Season', 'Category', 'Price', 'Age', 'Rating']]  # Example features\n",
    "y = young_data['Style Attributes']\n",
    "\n",
    "# Splitting the dataset into the Training set and Test set\n",
    "X_train, X_test, y_train, y_test = train_test_split(X, y, test_size=0.2, random_state=42)\n",
    "\n",
    "# Creating a pipeline for scaling and model training\n",
    "pipeline = make_pipeline(StandardScaler(), SVC(kernel='rbf', C=1, gamma='auto'))\n",
    "pipeline.fit(X_train, y_train)\n",
    "\n",
    "# Predicting the Test set results and calculating accuracy\n",
    "y_pred = pipeline.predict(X_test)\n",
    "accuracy = accuracy_score(y_test, y_pred)\n",
    "print(\"Accuracy:\", accuracy * 100)\n"
   ]
  },
  {
   "cell_type": "code",
   "execution_count": null,
   "id": "ba1e15d1",
   "metadata": {},
   "outputs": [],
   "source": [
    "#splitting dataset in terms of season and running support vector on each season to check if there is a greater prediction accuracy\n",
    "#specific example is predicting style attribute based on Fall/Winter"
   ]
  },
  {
   "cell_type": "code",
   "execution_count": 7,
   "id": "83f2af35",
   "metadata": {},
   "outputs": [
    {
     "name": "stdout",
     "output_type": "stream",
     "text": [
      "Accuracy: 11.242603550295858\n"
     ]
    }
   ],
   "source": [
    "import pandas as pd\n",
    "from sklearn.model_selection import train_test_split\n",
    "from sklearn.preprocessing import StandardScaler, LabelEncoder\n",
    "from sklearn.svm import SVC\n",
    "from sklearn.metrics import accuracy_score\n",
    "from sklearn.pipeline import make_pipeline\n",
    "\n",
    "# Load data\n",
    "data = pd.read_excel('10000_sales_data.xlsx')\n",
    "\n",
    "# Filter data for the 'Fall/Winter' season and explicitly copy it to avoid SettingWithCopyWarning\n",
    "season_data = data[data['Season'] == 'Fall/Winter'].copy()\n",
    "\n",
    "# Preparing data using best practices with .loc\n",
    "label_encoder = LabelEncoder()\n",
    "season_data.loc[:, 'Season'] = label_encoder.fit_transform(season_data['Season'])\n",
    "season_data.loc[:, 'Category'] = label_encoder.fit_transform(season_data['Category'])\n",
    "season_data.loc[:, 'Style Attributes'] = label_encoder.fit_transform(season_data['Style Attributes'])\n",
    "\n",
    "# Prepare features and target\n",
    "X = season_data[['Season', 'Category', 'Price', 'Age', 'Rating']]\n",
    "y = season_data['Style Attributes']\n",
    "\n",
    "# Splitting the dataset into the Training set and Test set\n",
    "X_train, X_test, y_train, y_test = train_test_split(X, y, test_size=0.2, random_state=42)\n",
    "\n",
    "# Creating a pipeline for scaling and model training\n",
    "pipeline = make_pipeline(StandardScaler(), SVC(kernel='rbf', C=1, gamma='auto'))\n",
    "pipeline.fit(X_train, y_train)\n",
    "\n",
    "# Predicting the Test set results and calculating accuracy\n",
    "y_pred = pipeline.predict(X_test)\n",
    "accuracy = accuracy_score(y_test, y_pred)\n",
    "print(\"Accuracy:\", accuracy * 100)\n"
   ]
  },
  {
   "cell_type": "code",
   "execution_count": null,
   "id": "4ae44a35",
   "metadata": {},
   "outputs": [],
   "source": []
  }
 ],
 "metadata": {
  "kernelspec": {
   "display_name": "Python 3 (ipykernel)",
   "language": "python",
   "name": "python3"
  },
  "language_info": {
   "codemirror_mode": {
    "name": "ipython",
    "version": 3
   },
   "file_extension": ".py",
   "mimetype": "text/x-python",
   "name": "python",
   "nbconvert_exporter": "python",
   "pygments_lexer": "ipython3",
   "version": "3.9.12"
  }
 },
 "nbformat": 4,
 "nbformat_minor": 5
}
