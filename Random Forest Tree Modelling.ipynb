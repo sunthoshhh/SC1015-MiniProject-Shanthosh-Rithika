{
 "cells": [
  {
   "cell_type": "code",
   "execution_count": 1,
   "id": "43b3d518",
   "metadata": {},
   "outputs": [
    {
     "name": "stdout",
     "output_type": "stream",
     "text": [
      "Accuracy: 9.35\n"
     ]
    }
   ],
   "source": [
    "import pandas as pd\n",
    "from sklearn.model_selection import train_test_split\n",
    "from sklearn.preprocessing import LabelEncoder\n",
    "from sklearn.ensemble import RandomForestClassifier\n",
    "from sklearn.metrics import accuracy_score\n",
    "\n",
    "# Load and prepare data\n",
    "data = pd.read_excel('10000_sales_data.xlsx')\n",
    "\n",
    "# Prepare features and target\n",
    "features = data[['Season', 'Category', 'Price', 'Age', 'Rating']].copy()\n",
    "target = data['Style Attributes']\n",
    "\n",
    "# Encode categorical data\n",
    "label_encoder = LabelEncoder()\n",
    "features.loc[:, 'Season'] = label_encoder.fit_transform(features['Season'])\n",
    "features.loc[:, 'Category'] = label_encoder.fit_transform(features['Category'])\n",
    "target_encoded = label_encoder.fit_transform(target)\n",
    "\n",
    "# Splitting the dataset\n",
    "X_train, X_test, y_train, y_test = train_test_split(features, target_encoded, test_size = 0.2, random_state = 42)\n",
    "\n",
    "# Model training\n",
    "random_forest_classifier = RandomForestClassifier(random_state=42)\n",
    "random_forest_classifier.fit(X_train, y_train)\n",
    "\n",
    "# Predictions and accuracy\n",
    "y_pred = random_forest_classifier.predict(X_test)\n",
    "accuracy = accuracy_score(y_test, y_pred)\n",
    "print(\"Accuracy:\", accuracy * 100)\n"
   ]
  },
  {
   "cell_type": "code",
   "execution_count": null,
   "id": "55b1a075",
   "metadata": {},
   "outputs": [],
   "source": [
    "#splitting dataset in terms of age range and running random forest model on each age to check if there is a greater prediction accuracy\n",
    "#specific example is predicting style attribute based on the young customer data"
   ]
  },
  {
   "cell_type": "code",
   "execution_count": 2,
   "id": "5fed577c",
   "metadata": {},
   "outputs": [
    {
     "name": "stdout",
     "output_type": "stream",
     "text": [
      "Accuracy: 8.680555555555555\n"
     ]
    }
   ],
   "source": [
    "import pandas as pd\n",
    "from sklearn.model_selection import train_test_split\n",
    "from sklearn.preprocessing import LabelEncoder\n",
    "from sklearn.ensemble import RandomForestClassifier\n",
    "from sklearn.metrics import accuracy_score\n",
    "\n",
    "# Load data\n",
    "data = pd.read_excel('10000_sales_data.xlsx')\n",
    "\n",
    "# Define age groups\n",
    "bins = [0, 25, 50, 100]\n",
    "labels = ['Young', 'Middle-aged', 'Senior']\n",
    "data['Age Group'] = pd.cut(data['Age'], bins=bins, labels=labels, right=False)\n",
    "\n",
    "# Filter data for the 'Young' age group\n",
    "young_data = data[data['Age Group'] == 'Young']\n",
    "\n",
    "# Prepare features and target\n",
    "features = young_data[['Season', 'Category', 'Price', 'Rating']].copy()\n",
    "target = young_data['Style Attributes']\n",
    "\n",
    "# Encode categorical data\n",
    "label_encoder = LabelEncoder()\n",
    "features.loc[:, 'Season'] = label_encoder.fit_transform(features['Season'])\n",
    "features.loc[:, 'Category'] = label_encoder.fit_transform(features['Category'])\n",
    "target_encoded = label_encoder.fit_transform(target)\n",
    "\n",
    "# Splitting the dataset\n",
    "X_train, X_test, y_train, y_test = train_test_split(features, target_encoded, test_size = 0.2, random_state = 42)\n",
    "\n",
    "# Model training\n",
    "random_forest_classifier = RandomForestClassifier(random_state=42)\n",
    "random_forest_classifier.fit(X_train, y_train)\n",
    "\n",
    "# Predictions and accuracy\n",
    "y_pred = random_forest_classifier.predict(X_test)\n",
    "accuracy = accuracy_score(y_test, y_pred)\n",
    "print(\"Accuracy:\", accuracy * 100)\n"
   ]
  },
  {
   "cell_type": "code",
   "execution_count": null,
   "id": "78e1d051",
   "metadata": {},
   "outputs": [],
   "source": [
    "#splitting dataset in terms of season and running random forest model on each season to check if there is a greater prediction accuracy\n",
    "#specific example is predicting style attribute based on Fall/Winter"
   ]
  },
  {
   "cell_type": "code",
   "execution_count": 3,
   "id": "08417e6a",
   "metadata": {},
   "outputs": [
    {
     "name": "stdout",
     "output_type": "stream",
     "text": [
      "Accuracy: 8.579881656804734\n"
     ]
    }
   ],
   "source": [
    "\n",
    "\n",
    "# Load data\n",
    "data = pd.read_excel('10000_sales_data.xlsx')\n",
    "\n",
    "# Filter data for the 'Fall/Winter' season\n",
    "fall_winter_data = data[data['Season'] == 'Fall/Winter']\n",
    "\n",
    "# Prepare features and target\n",
    "features = fall_winter_data[['Age', 'Price', 'Category', 'Rating']].copy()\n",
    "target = fall_winter_data['Style Attributes']\n",
    "\n",
    "# Encode categorical data\n",
    "label_encoder = LabelEncoder()\n",
    "features.loc[:, 'Category'] = label_encoder.fit_transform(features['Category'])\n",
    "target_encoded = label_encoder.fit_transform(target)\n",
    "\n",
    "# Splitting the dataset\n",
    "X_train, X_test, y_train, y_test = train_test_split(features, target_encoded, test_size = 0.2, random_state = 42)\n",
    "\n",
    "# Model training\n",
    "random_forest_classifier = RandomForestClassifier(random_state=42)\n",
    "random_forest_classifier.fit(X_train, y_train)\n",
    "\n",
    "# Predictions and accuracy\n",
    "y_pred = random_forest_classifier.predict(X_test)\n",
    "accuracy = accuracy_score(y_test, y_pred)\n",
    "print(\"Accuracy:\", accuracy * 100)\n"
   ]
  },
  {
   "cell_type": "code",
   "execution_count": null,
   "id": "b569abea",
   "metadata": {},
   "outputs": [],
   "source": []
  }
 ],
 "metadata": {
  "kernelspec": {
   "display_name": "Python 3 (ipykernel)",
   "language": "python",
   "name": "python3"
  },
  "language_info": {
   "codemirror_mode": {
    "name": "ipython",
    "version": 3
   },
   "file_extension": ".py",
   "mimetype": "text/x-python",
   "name": "python",
   "nbconvert_exporter": "python",
   "pygments_lexer": "ipython3",
   "version": "3.9.12"
  }
 },
 "nbformat": 4,
 "nbformat_minor": 5
}
