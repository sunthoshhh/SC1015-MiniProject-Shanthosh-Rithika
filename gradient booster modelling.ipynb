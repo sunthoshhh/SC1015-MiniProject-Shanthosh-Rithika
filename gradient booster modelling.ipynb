{
 "cells": [
  {
   "cell_type": "code",
   "execution_count": 4,
   "id": "06804b33",
   "metadata": {},
   "outputs": [
    {
     "name": "stdout",
     "output_type": "stream",
     "text": [
      "Accuracy: 9.85\n"
     ]
    }
   ],
   "source": [
    "import pandas as pd\n",
    "from sklearn.model_selection import train_test_split\n",
    "from sklearn.preprocessing import LabelEncoder\n",
    "from sklearn.ensemble import GradientBoostingClassifier\n",
    "from sklearn.metrics import accuracy_score\n",
    "\n",
    "# Load data\n",
    "data = pd.read_excel('10000_sales_data.xlsx')\n",
    "\n",
    "# Prepare features and target\n",
    "features = data[['Season', 'Category', 'Price', 'Age', 'Rating']].copy()\n",
    "target = data['Style Attributes']\n",
    "\n",
    "# Encode categorical data safely using .loc\n",
    "label_encoder = LabelEncoder()\n",
    "features.loc[:, 'Season'] = label_encoder.fit_transform(features['Season'])\n",
    "features.loc[:, 'Category'] = label_encoder.fit_transform(features['Category'])\n",
    "target_encoded = label_encoder.fit_transform(target)\n",
    "\n",
    "# Split dataset\n",
    "X_train, X_test, y_train, y_test = train_test_split(features, target_encoded, test_size=0.2, random_state=42)\n",
    "\n",
    "# Train model\n",
    "classifier = GradientBoostingClassifier(random_state=42)\n",
    "classifier.fit(X_train, y_train)\n",
    "\n",
    "# Evaluate model\n",
    "y_pred = classifier.predict(X_test)\n",
    "accuracy = accuracy_score(y_test, y_pred)\n",
    "print(\"Accuracy:\", accuracy*100)\n"
   ]
  },
  {
   "cell_type": "code",
   "execution_count": null,
   "id": "6c5669ff",
   "metadata": {},
   "outputs": [],
   "source": [
    "#splitting dataset in terms of age range and running gradient booster on each age to check if there is a greater prediction accuracy\n",
    "#specific example is predicting style attribute based on the young customer data"
   ]
  },
  {
   "cell_type": "code",
   "execution_count": 10,
   "id": "988cdcea",
   "metadata": {},
   "outputs": [
    {
     "name": "stdout",
     "output_type": "stream",
     "text": [
      "Accuracy: 10.069444444444445\n"
     ]
    }
   ],
   "source": [
    "import pandas as pd\n",
    "from sklearn.model_selection import train_test_split\n",
    "from sklearn.preprocessing import LabelEncoder\n",
    "from sklearn.ensemble import GradientBoostingClassifier\n",
    "from sklearn.metrics import accuracy_score\n",
    "\n",
    "# Load data\n",
    "data = pd.read_excel('10000_sales_data.xlsx')\n",
    "\n",
    "# Defining age groups and filtering\n",
    "bins = [0, 25, 50, 100]\n",
    "labels = ['Young', 'Middle-aged', 'Senior']\n",
    "data['Age Group'] = pd.cut(data['Age'], bins=bins, labels=labels, right=False)\n",
    "young_data = data[data['Age Group'] == 'Young']\n",
    "\n",
    "# Preparing features and target\n",
    "features_young = young_data[['Season', 'Category', 'Price', 'Rating']].copy()\n",
    "target_young = young_data['Style Attributes']\n",
    "\n",
    "# Encoding categorical data\n",
    "label_encoder = LabelEncoder()\n",
    "features_young.loc[:, 'Season'] = label_encoder.fit_transform(features_young['Season'])\n",
    "features_young.loc[:, 'Category'] = label_encoder.fit_transform(features_young['Category'])\n",
    "target_young_encoded = label_encoder.fit_transform(target_young)\n",
    "\n",
    "# Splitting the dataset\n",
    "X_train_young, X_test_young, y_train_young, y_test_young = train_test_split(features_young, target_young_encoded, test_size=0.2, random_state=42)\n",
    "\n",
    "# Model training\n",
    "classifier_young = GradientBoostingClassifier(random_state=42)\n",
    "classifier_young.fit(X_train_young, y_train_young)\n",
    "\n",
    "# Predicting and evaluating accuracy\n",
    "y_pred_young = classifier_young.predict(X_test_young)\n",
    "accuracy_young = accuracy_score(y_test_young, y_pred_young)\n",
    "print(\"Accuracy:\", accuracy_young*100)\n"
   ]
  },
  {
   "cell_type": "code",
   "execution_count": null,
   "id": "7f1117d0",
   "metadata": {},
   "outputs": [],
   "source": [
    "#splitting dataset in terms of season and running gradient booster on each season to check if there is a greater prediction accuracy\n",
    "#specific example is predicting style attribute based on Fall/Winter"
   ]
  },
  {
   "cell_type": "code",
   "execution_count": 15,
   "id": "b665a3e2",
   "metadata": {},
   "outputs": [
    {
     "name": "stdout",
     "output_type": "stream",
     "text": [
      "Accuracy: 9.467455621301776\n"
     ]
    }
   ],
   "source": [
    "\n",
    "# Load and prepare data\n",
    "data = pd.read_excel('10000_sales_data.xlsx')\n",
    "season_data = data[data['Season'] == 'Fall/Winter']\n",
    "\n",
    "# Features and target\n",
    "features = season_data[['Age', 'Price', 'Category', 'Rating']].copy()\n",
    "target = season_data['Style Attributes']\n",
    "\n",
    "# Encode categorical data safely using .loc\n",
    "label_encoder = LabelEncoder()\n",
    "features.loc[:, 'Category'] = label_encoder.fit_transform(features['Category'])\n",
    "target_encoded = label_encoder.fit_transform(target)\n",
    "\n",
    "# Splitting the dataset\n",
    "X_train, X_test, y_train, y_test = train_test_split(features, target_encoded, test_size = 0.2, random_state = 42)\n",
    "\n",
    "# Model training\n",
    "classifier = GradientBoostingClassifier(random_state=42)\n",
    "classifier.fit(X_train, y_train)\n",
    "\n",
    "# Predictions and accuracy\n",
    "y_pred = classifier.predict(X_test)\n",
    "accuracy = accuracy_score(y_test, y_pred)\n",
    "print(\"Accuracy:\", accuracy * 100)\n"
   ]
  },
  {
   "cell_type": "code",
   "execution_count": null,
   "id": "205c7d20",
   "metadata": {},
   "outputs": [],
   "source": []
  }
 ],
 "metadata": {
  "kernelspec": {
   "display_name": "Python 3 (ipykernel)",
   "language": "python",
   "name": "python3"
  },
  "language_info": {
   "codemirror_mode": {
    "name": "ipython",
    "version": 3
   },
   "file_extension": ".py",
   "mimetype": "text/x-python",
   "name": "python",
   "nbconvert_exporter": "python",
   "pygments_lexer": "ipython3",
   "version": "3.9.12"
  }
 },
 "nbformat": 4,
 "nbformat_minor": 5
}
